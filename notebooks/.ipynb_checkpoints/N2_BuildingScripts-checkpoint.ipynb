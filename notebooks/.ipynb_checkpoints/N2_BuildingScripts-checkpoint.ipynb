{
 "cells": [
  {
   "cell_type": "markdown",
   "metadata": {},
   "source": [
    "# Scripts del Proyecto"
   ]
  },
  {
   "cell_type": "markdown",
   "metadata": {},
   "source": [
    "### Script 1: Preparacion de datos para el entrenamiento"
   ]
  },
  {
   "cell_type": "code",
   "execution_count": null,
   "metadata": {},
   "outputs": [],
   "source": [
    "import numpy as np\n",
    "import pandas as pd"
   ]
  },
  {
   "cell_type": "code",
   "execution_count": null,
   "metadata": {},
   "outputs": [],
   "source": [
    "# Leemos la tabla de entrenamiento\n",
    "df = pd.read_csv(\"../data/raw/defaultcc.csv\").set_index('ID')"
   ]
  },
  {
   "cell_type": "code",
   "execution_count": null,
   "metadata": {},
   "outputs": [],
   "source": [
    "# Convertimos SEX en dummy\n",
    "df.SEX=df.SEX-1"
   ]
  },
  {
   "cell_type": "code",
   "execution_count": null,
   "metadata": {},
   "outputs": [],
   "source": [
    "# Generar variables Cuantitativas transformadas\n",
    "LIST_BILL = ['BILL_AMT1','BILL_AMT2','BILL_AMT3','BILL_AMT4','BILL_AMT5','BILL_AMT6']\n",
    "for i in LIST_BILL:\n",
    " df.loc[df.loc[:,i]==-1,i]=0"
   ]
  },
  {
   "cell_type": "code",
   "execution_count": null,
   "metadata": {},
   "outputs": [],
   "source": [
    "df['LOG_BILL_AMT1'] = round(np.log1p(df['BILL_AMT1']),5)\n",
    "df['LOG_BILL_AMT2'] = round(np.log1p(df['BILL_AMT2']),5)\n",
    "df['LOG_BILL_AMT3'] = round(np.log1p(df['BILL_AMT3']),5)\n",
    "df['LOG_BILL_AMT4'] = round(np.log1p(df['BILL_AMT4']),5)\n",
    "df['LOG_BILL_AMT5'] = round(np.log1p(df['BILL_AMT5']),5)\n",
    "df['LOG_BILL_AMT6'] = round(np.log1p(df['BILL_AMT6']),5)\n",
    "df['LOG_PAY_AMT1'] = round(np.log1p(df['PAY_AMT1']),5)\n",
    "df['LOG_PAY_AMT2'] = round(np.log1p(df['PAY_AMT2']),5)\n",
    "df['LOG_PAY_AMT3'] = round(np.log1p(df['PAY_AMT3']),5)\n",
    "df['LOG_PAY_AMT4'] = round(np.log1p(df['PAY_AMT4']),5)\n",
    "df['LOG_PAY_AMT5'] = round(np.log1p(df['PAY_AMT5']),5)\n",
    "df['LOG_PAY_AMT6'] = round(np.log1p(df['PAY_AMT6']),5)"
   ]
  },
  {
   "cell_type": "code",
   "execution_count": null,
   "metadata": {},
   "outputs": [],
   "source": [
    "LIST_PAY  = ['PAY_1','PAY_2','PAY_3','PAY_4','PAY_5','PAY_6']\n",
    "LIST_BILL = ['LOG_BILL_AMT1','LOG_BILL_AMT2','LOG_BILL_AMT3','LOG_BILL_AMT4','LOG_BILL_AMT5','LOG_BILL_AMT6']\n",
    "LIST_PAMT = ['LOG_PAY_AMT1','LOG_PAY_AMT2','LOG_PAY_AMT3','LOG_PAY_AMT4','LOG_PAY_AMT5','LOG_PAY_AMT6']"
   ]
  },
  {
   "cell_type": "code",
   "execution_count": null,
   "metadata": {},
   "outputs": [],
   "source": [
    "# Reemplazar los valores faltantes con cero\n",
    "for i in LIST_BILL:\n",
    " df.loc[df.loc[:,i].isnull(),i]=0"
   ]
  },
  {
   "cell_type": "code",
   "execution_count": null,
   "metadata": {},
   "outputs": [],
   "source": [
    "# Creamos otras variables derivadas\n",
    "df['STD_PAY_TOT']    = df[LIST_PAY].std(axis=1)\n",
    "df['CANT_PAY_MAY0']  = df[LIST_PAY].gt(0).sum(axis=1)\n",
    "df['AVG_LBILL_TOT']  = df[LIST_BILL].mean(axis=1)\n",
    "df['STD_LBILL_TOT']  = df[LIST_BILL].std(axis=1)\n",
    "df['CV_LBILL_TOT']   =  df['STD_LBILL_TOT']/(df['AVG_LBILL_TOT']+1)\n",
    "df['AVG_LPAY_TOT']   = df[LIST_PAMT].mean(axis=1)\n",
    "df['STD_LPAY_TOT']   = df[LIST_PAMT].std(axis=1)\n",
    "df['CV_LPAY_TOT']    =  df['STD_LPAY_TOT']/(df['AVG_LPAY_TOT']+1)\n",
    "df['AVG_EXP_1'] = (((df['BILL_AMT5'] - (df['BILL_AMT6'] - df['PAY_AMT5'])) +\n",
    "                 (df['BILL_AMT4'] - (df['BILL_AMT5'] - df['PAY_AMT4'])) +\n",
    "                 (df['BILL_AMT3'] - (df['BILL_AMT4'] - df['PAY_AMT3'])) +\n",
    "                 (df['BILL_AMT2'] - (df['BILL_AMT3'] - df['PAY_AMT2'])) +\n",
    "                 (df['BILL_AMT1'] - (df['BILL_AMT2'] - df['PAY_AMT1']))) / 5) / df['LIMIT_BAL']"
   ]
  },
  {
   "cell_type": "code",
   "execution_count": null,
   "metadata": {},
   "outputs": [],
   "source": [
    "# Mantener sólo las variables relevantes para el Modelo\n",
    "dfp = df[['SEX','PAY_1','AGE','LIMIT_BAL','CV_LPAY_TOT','CV_LBILL_TOT','CANT_PAY_MAY0','BILL_AMT1','LOG_BILL_AMT1','AVG_LPAY_TOT','STD_PAY_TOT','AVG_EXP_1','DEFAULT']]\n",
    "dfp.to_csv(\"../data/processed/credit_train.csv\")"
   ]
  },
  {
   "cell_type": "markdown",
   "metadata": {},
   "source": [
    "### Script 2: Código de Entrenamiento"
   ]
  },
  {
   "cell_type": "code",
   "execution_count": null,
   "metadata": {},
   "outputs": [],
   "source": [
    "import pandas as pd\n",
    "import xgboost as xgb\n",
    "import pickle"
   ]
  },
  {
   "cell_type": "code",
   "execution_count": null,
   "metadata": {},
   "outputs": [],
   "source": [
    "# Cargar la tabla transformada\n",
    "df = pd.read_csv(\"../data/processed/credit_train.csv\").set_index('ID')\n",
    "X_train = df.drop(['DEFAULT'],axis=1)\n",
    "y_train = df[['DEFAULT']]"
   ]
  },
  {
   "cell_type": "code",
   "execution_count": null,
   "metadata": {},
   "outputs": [],
   "source": [
    "# Entrenamos el modelo con toda la muestra\n",
    "xgb_mod=xgb.XGBClassifier(max_depth=2, n_estimators=50, objective='binary:logistic', seed=0, silent=True, subsample=.8)\n",
    "xgb_mod.fit(X_train, y_train)"
   ]
  },
  {
   "cell_type": "code",
   "execution_count": null,
   "metadata": {},
   "outputs": [],
   "source": [
    "# Guardamos el modelo entrenado para usarlo en produccion\n",
    "filename = '../models/best_model.pkl'\n",
    "pickle.dump(xgb_mod, open(filename, 'wb'))"
   ]
  },
  {
   "cell_type": "markdown",
   "metadata": {},
   "source": [
    "### Script 3: Preparación de Datos de Validación"
   ]
  },
  {
   "cell_type": "code",
   "execution_count": null,
   "metadata": {},
   "outputs": [],
   "source": [
    "import numpy as np\n",
    "import pandas as pd"
   ]
  },
  {
   "cell_type": "code",
   "execution_count": null,
   "metadata": {},
   "outputs": [],
   "source": [
    "# Leemos la tabla de entrenamiento\n",
    "df = pd.read_csv(\"../data/raw/defaultcc_new.csv\").set_index('ID')"
   ]
  },
  {
   "cell_type": "code",
   "execution_count": null,
   "metadata": {},
   "outputs": [],
   "source": [
    "# Convertimos SEX en dummy\n",
    "df.SEX=df.SEX-1"
   ]
  },
  {
   "cell_type": "code",
   "execution_count": null,
   "metadata": {},
   "outputs": [],
   "source": [
    "# Generar variables Cuantitativas transformadas\n",
    "LIST_BILL = ['BILL_AMT1','BILL_AMT2','BILL_AMT3','BILL_AMT4','BILL_AMT5','BILL_AMT6']\n",
    "for i in LIST_BILL:\n",
    " df.loc[df.loc[:,i]==-1,i]=0"
   ]
  },
  {
   "cell_type": "code",
   "execution_count": null,
   "metadata": {},
   "outputs": [],
   "source": [
    "df['LOG_BILL_AMT1'] = round(np.log1p(df['BILL_AMT1']),5)\n",
    "df['LOG_BILL_AMT2'] = round(np.log1p(df['BILL_AMT2']),5)\n",
    "df['LOG_BILL_AMT3'] = round(np.log1p(df['BILL_AMT3']),5)\n",
    "df['LOG_BILL_AMT4'] = round(np.log1p(df['BILL_AMT4']),5)\n",
    "df['LOG_BILL_AMT5'] = round(np.log1p(df['BILL_AMT5']),5)\n",
    "df['LOG_BILL_AMT6'] = round(np.log1p(df['BILL_AMT6']),5)\n",
    "df['LOG_PAY_AMT1'] = round(np.log1p(df['PAY_AMT1']),5)\n",
    "df['LOG_PAY_AMT2'] = round(np.log1p(df['PAY_AMT2']),5)\n",
    "df['LOG_PAY_AMT3'] = round(np.log1p(df['PAY_AMT3']),5)\n",
    "df['LOG_PAY_AMT4'] = round(np.log1p(df['PAY_AMT4']),5)\n",
    "df['LOG_PAY_AMT5'] = round(np.log1p(df['PAY_AMT5']),5)\n",
    "df['LOG_PAY_AMT6'] = round(np.log1p(df['PAY_AMT6']),5)"
   ]
  },
  {
   "cell_type": "code",
   "execution_count": null,
   "metadata": {},
   "outputs": [],
   "source": [
    "LIST_PAY  = ['PAY_1','PAY_2','PAY_3','PAY_4','PAY_5','PAY_6']\n",
    "LIST_BILL = ['LOG_BILL_AMT1','LOG_BILL_AMT2','LOG_BILL_AMT3','LOG_BILL_AMT4','LOG_BILL_AMT5','LOG_BILL_AMT6']\n",
    "LIST_PAMT = ['LOG_PAY_AMT1','LOG_PAY_AMT2','LOG_PAY_AMT3','LOG_PAY_AMT4','LOG_PAY_AMT5','LOG_PAY_AMT6']"
   ]
  },
  {
   "cell_type": "code",
   "execution_count": null,
   "metadata": {},
   "outputs": [],
   "source": [
    "# Reemplazar los valores faltantes con cero\n",
    "for i in LIST_BILL:\n",
    " df.loc[df.loc[:,i].isnull(),i]=0"
   ]
  },
  {
   "cell_type": "code",
   "execution_count": null,
   "metadata": {},
   "outputs": [],
   "source": [
    "# Creamos otras variables derivadas\n",
    "df['STD_PAY_TOT']    = df[LIST_PAY].std(axis=1)\n",
    "df['CANT_PAY_MAY0']  = df[LIST_PAY].gt(0).sum(axis=1)\n",
    "df['AVG_LBILL_TOT']  = df[LIST_BILL].mean(axis=1)\n",
    "df['STD_LBILL_TOT']  = df[LIST_BILL].std(axis=1)\n",
    "df['CV_LBILL_TOT']   =  df['STD_LBILL_TOT']/(df['AVG_LBILL_TOT']+1)\n",
    "df['AVG_LPAY_TOT']   = df[LIST_PAMT].mean(axis=1)\n",
    "df['STD_LPAY_TOT']   = df[LIST_PAMT].std(axis=1)\n",
    "df['CV_LPAY_TOT']    =  df['STD_LPAY_TOT']/(df['AVG_LPAY_TOT']+1)\n",
    "df['AVG_EXP_1'] = (((df['BILL_AMT5'] - (df['BILL_AMT6'] - df['PAY_AMT5'])) +\n",
    "                 (df['BILL_AMT4'] - (df['BILL_AMT5'] - df['PAY_AMT4'])) +\n",
    "                 (df['BILL_AMT3'] - (df['BILL_AMT4'] - df['PAY_AMT3'])) +\n",
    "                 (df['BILL_AMT2'] - (df['BILL_AMT3'] - df['PAY_AMT2'])) +\n",
    "                 (df['BILL_AMT1'] - (df['BILL_AMT2'] - df['PAY_AMT1']))) / 5) / df['LIMIT_BAL']"
   ]
  },
  {
   "cell_type": "code",
   "execution_count": null,
   "metadata": {},
   "outputs": [],
   "source": [
    "# Mantener sólo las variables relevantes para el Modelo\n",
    "dfp = df[['SEX','PAY_1','AGE','LIMIT_BAL','CV_LPAY_TOT','CV_LBILL_TOT','CANT_PAY_MAY0','BILL_AMT1','LOG_BILL_AMT1','AVG_LPAY_TOT','STD_PAY_TOT','AVG_EXP_1','DEFAULT']]\n",
    "dfp.to_csv(\"../data/processed/credit_val.csv\")"
   ]
  },
  {
   "cell_type": "markdown",
   "metadata": {},
   "source": [
    "### Script 4: Código de Validación"
   ]
  },
  {
   "cell_type": "code",
   "execution_count": null,
   "metadata": {},
   "outputs": [],
   "source": [
    "import pandas as pd\n",
    "import xgboost as xgb\n",
    "import pickle\n",
    "import matplotlib.pyplot as plt\n",
    "from sklearn.metrics import *"
   ]
  },
  {
   "cell_type": "code",
   "execution_count": null,
   "metadata": {},
   "outputs": [],
   "source": [
    "# Cargar la tabla transformada\n",
    "df = pd.read_csv(\"../data/processed/credit_val.csv\").set_index('ID')\n",
    "X_test = df.drop(['DEFAULT'],axis=1)\n",
    "y_test = df[['DEFAULT']]"
   ]
  },
  {
   "cell_type": "code",
   "execution_count": null,
   "metadata": {},
   "outputs": [],
   "source": [
    "# Leemos el modelo entrenado!\n",
    "filename = '../models/best_model.pkl'\n",
    "model = pickle.load(open(filename, 'rb'))"
   ]
  },
  {
   "cell_type": "code",
   "execution_count": null,
   "metadata": {},
   "outputs": [],
   "source": [
    "# Predecimos sobre el set de datos de implementacion con el modelo entrenado\n",
    "y_pred_test=model.predict(df.drop(['DEFAULT'],axis=1)) "
   ]
  },
  {
   "cell_type": "code",
   "execution_count": null,
   "metadata": {},
   "outputs": [],
   "source": [
    "## Metricas de validación\n",
    "def calc_metrics(y_test,y_pred_test):\n",
    "    cm_test = confusion_matrix(y_test,y_pred_test)\n",
    "    print(\"Matriz de confusion: \")\n",
    "    print(cm_test)\n",
    "    accuracy_test=accuracy_score(y_test,y_pred_test)\n",
    "    print(\"Accuracy: \", accuracy_test)\n",
    "    precision_test=precision_score(y_test,y_pred_test)\n",
    "    print(\"Precision: \", precision_test)\n",
    "    recall_test=recall_score(y_test,y_pred_test)\n",
    "    print(\"Recall: \", recall_test)"
   ]
  },
  {
   "cell_type": "code",
   "execution_count": null,
   "metadata": {},
   "outputs": [],
   "source": [
    "def save_plot(title):\n",
    "    plt.title(title)\n",
    "    fig = plt.gcf()\n",
    "    filename = title.replace(\" \", \"_\").lower()\n",
    "    fig.savefig('{}'.format(filename), dpi=500)\n",
    "    plt.clf()"
   ]
  },
  {
   "cell_type": "code",
   "execution_count": null,
   "metadata": {},
   "outputs": [],
   "source": [
    "plot_confusion_matrix(model, X_test, y_test)\n",
    "save_plot('Confusion Matrix')"
   ]
  },
  {
   "cell_type": "code",
   "execution_count": null,
   "metadata": {},
   "outputs": [],
   "source": [
    "plot_roc_curve(model, X_test, y_test)\n",
    "save_plot('ROC Curve')"
   ]
  },
  {
   "cell_type": "markdown",
   "metadata": {},
   "source": [
    "### Script 5: Preparación de Datos de Score (Automatización)"
   ]
  },
  {
   "cell_type": "code",
   "execution_count": null,
   "metadata": {},
   "outputs": [],
   "source": [
    "import numpy as np\n",
    "import pandas as pd"
   ]
  },
  {
   "cell_type": "code",
   "execution_count": null,
   "metadata": {},
   "outputs": [],
   "source": [
    "# Leemos la tabla de entrenamiento\n",
    "df = pd.read_csv(\"../data/raw/defaultcc_score.csv\").set_index('ID')"
   ]
  },
  {
   "cell_type": "code",
   "execution_count": null,
   "metadata": {},
   "outputs": [],
   "source": [
    "# Convertimos SEX en dummy\n",
    "df.SEX=df.SEX-1"
   ]
  },
  {
   "cell_type": "code",
   "execution_count": null,
   "metadata": {},
   "outputs": [],
   "source": [
    "# Generar variables Cuantitativas transformadas\n",
    "LIST_BILL = ['BILL_AMT1','BILL_AMT2','BILL_AMT3','BILL_AMT4','BILL_AMT5','BILL_AMT6']\n",
    "for i in LIST_BILL:\n",
    " df.loc[df.loc[:,i]==-1,i]=0\n",
    "df['LOG_BILL_AMT1'] = round(np.log1p(df['BILL_AMT1']),5)\n",
    "df['LOG_BILL_AMT2'] = round(np.log1p(df['BILL_AMT2']),5)\n",
    "df['LOG_BILL_AMT3'] = round(np.log1p(df['BILL_AMT3']),5)\n",
    "df['LOG_BILL_AMT4'] = round(np.log1p(df['BILL_AMT4']),5)\n",
    "df['LOG_BILL_AMT5'] = round(np.log1p(df['BILL_AMT5']),5)\n",
    "df['LOG_BILL_AMT6'] = round(np.log1p(df['BILL_AMT6']),5)\n",
    "df['LOG_PAY_AMT1'] = round(np.log1p(df['PAY_AMT1']),5)\n",
    "df['LOG_PAY_AMT2'] = round(np.log1p(df['PAY_AMT2']),5)\n",
    "df['LOG_PAY_AMT3'] = round(np.log1p(df['PAY_AMT3']),5)\n",
    "df['LOG_PAY_AMT4'] = round(np.log1p(df['PAY_AMT4']),5)\n",
    "df['LOG_PAY_AMT5'] = round(np.log1p(df['PAY_AMT5']),5)\n",
    "df['LOG_PAY_AMT6'] = round(np.log1p(df['PAY_AMT6']),5)\n",
    "LIST_PAY  = ['PAY_1','PAY_2','PAY_3','PAY_4','PAY_5','PAY_6']\n",
    "LIST_BILL = ['LOG_BILL_AMT1','LOG_BILL_AMT2','LOG_BILL_AMT3','LOG_BILL_AMT4','LOG_BILL_AMT5','LOG_BILL_AMT6']\n",
    "LIST_PAMT = ['LOG_PAY_AMT1','LOG_PAY_AMT2','LOG_PAY_AMT3','LOG_PAY_AMT4','LOG_PAY_AMT5','LOG_PAY_AMT6']\n",
    "# Reemplazar los valores faltantes con cero\n",
    "for i in LIST_BILL:\n",
    " df.loc[df.loc[:,i].isnull(),i]=0"
   ]
  },
  {
   "cell_type": "code",
   "execution_count": null,
   "metadata": {},
   "outputs": [],
   "source": [
    "# Creamos otras variables derivadas\n",
    "df['STD_PAY_TOT']    = df[LIST_PAY].std(axis=1)\n",
    "df['CANT_PAY_MAY0']  = df[LIST_PAY].gt(0).sum(axis=1)\n",
    "df['AVG_LBILL_TOT']  = df[LIST_BILL].mean(axis=1)\n",
    "df['STD_LBILL_TOT']  = df[LIST_BILL].std(axis=1)\n",
    "df['CV_LBILL_TOT']   =  df['STD_LBILL_TOT']/(df['AVG_LBILL_TOT']+1)\n",
    "df['AVG_LPAY_TOT']   = df[LIST_PAMT].mean(axis=1)\n",
    "df['STD_LPAY_TOT']   = df[LIST_PAMT].std(axis=1)\n",
    "df['CV_LPAY_TOT']    =  df['STD_LPAY_TOT']/(df['AVG_LPAY_TOT']+1)\n",
    "df['AVG_EXP_1'] = (((df['BILL_AMT5'] - (df['BILL_AMT6'] - df['PAY_AMT5'])) +\n",
    "                 (df['BILL_AMT4'] - (df['BILL_AMT5'] - df['PAY_AMT4'])) +\n",
    "                 (df['BILL_AMT3'] - (df['BILL_AMT4'] - df['PAY_AMT3'])) +\n",
    "                 (df['BILL_AMT2'] - (df['BILL_AMT3'] - df['PAY_AMT2'])) +\n",
    "                 (df['BILL_AMT1'] - (df['BILL_AMT2'] - df['PAY_AMT1']))) / 5) / df['LIMIT_BAL']"
   ]
  },
  {
   "cell_type": "code",
   "execution_count": null,
   "metadata": {},
   "outputs": [],
   "source": [
    "# Mantener sólo las variables relevantes para el Modelo\n",
    "dfp = df[['SEX','PAY_1','AGE','LIMIT_BAL','CV_LPAY_TOT','CV_LBILL_TOT','CANT_PAY_MAY0','BILL_AMT1','LOG_BILL_AMT1','AVG_LPAY_TOT','STD_PAY_TOT','AVG_EXP_1']]\n",
    "dfp.to_csv(\"../data/processed/credit_score.csv\")"
   ]
  },
  {
   "cell_type": "markdown",
   "metadata": {},
   "source": [
    "### Scipt 6: Código de Scoring (Automatización)"
   ]
  },
  {
   "cell_type": "code",
   "execution_count": null,
   "metadata": {},
   "outputs": [],
   "source": [
    "import pandas as pd\n",
    "import xgboost as xgb\n",
    "import pickle"
   ]
  },
  {
   "cell_type": "code",
   "execution_count": null,
   "metadata": {},
   "outputs": [],
   "source": [
    "# Cargar la tabla transformada\n",
    "df = pd.read_csv(\"../data/processed/credit_score.csv\").set_index('ID')"
   ]
  },
  {
   "cell_type": "code",
   "execution_count": null,
   "metadata": {},
   "outputs": [],
   "source": [
    "# Leemos el modelo entrenado!\n",
    "filename = '../models/best_model.pkl'\n",
    "model = pickle.load(open(filename, 'rb'))"
   ]
  },
  {
   "cell_type": "code",
   "execution_count": null,
   "metadata": {},
   "outputs": [],
   "source": [
    "# Predecimos sobre el set de datos de implementacion con el modelo entrenado\n",
    "scores=model.predict(df).reshape(-1,1)"
   ]
  },
  {
   "cell_type": "code",
   "execution_count": null,
   "metadata": {},
   "outputs": [],
   "source": [
    "# Exportamos el resultado del modelo para cargarlo en el Feature Store o Data Mart de Modelos\n",
    "# Le asignamos nombres a las columnas\n",
    "df_score = pd.DataFrame(scores, columns=['PREDICT'])\n",
    "# Exportamos la solucion\n",
    "df_score.to_csv('../data/scores/final_score.csv')"
   ]
  },
  {
   "cell_type": "code",
   "execution_count": null,
   "metadata": {},
   "outputs": [],
   "source": []
  }
 ],
 "metadata": {
  "kernelspec": {
   "display_name": "Python 3 (ipykernel)",
   "language": "python",
   "name": "python3"
  },
  "language_info": {
   "codemirror_mode": {
    "name": "ipython",
    "version": 3
   },
   "file_extension": ".py",
   "mimetype": "text/x-python",
   "name": "python",
   "nbconvert_exporter": "python",
   "pygments_lexer": "ipython3",
   "version": "3.9.7"
  }
 },
 "nbformat": 4,
 "nbformat_minor": 4
}
